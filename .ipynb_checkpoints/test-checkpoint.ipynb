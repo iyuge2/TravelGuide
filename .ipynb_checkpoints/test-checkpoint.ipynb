{
 "cells": [
  {
   "cell_type": "code",
   "execution_count": 8,
   "metadata": {},
   "outputs": [],
   "source": [
    "import os\n",
    "import ast\n",
    "import json"
   ]
  },
  {
   "cell_type": "code",
   "execution_count": 3,
   "metadata": {},
   "outputs": [],
   "source": [
    "guides = ['data/mfw/guide.txt', 'data/qne/guide.txt']"
   ]
  },
  {
   "cell_type": "code",
   "execution_count": 12,
   "metadata": {},
   "outputs": [
    {
     "name": "stdout",
     "output_type": "stream",
     "text": [
      "442654\n"
     ]
    }
   ],
   "source": [
    "for guide in guides:\n",
    "    with open(guide, 'r', encoding='utf-8') as gf:\n",
    "        lines = gf.readlines()\n",
    "        for line in lines:\n",
    "            print(len(lines))\n",
    "            cur_item = ast.literal_eval(line)\n",
    "            break\n",
    "    break"
   ]
  },
  {
   "cell_type": "code",
   "execution_count": 13,
   "metadata": {},
   "outputs": [
    {
     "data": {
      "text/plain": [
       "{'author': 'Sorry爱旅行',\n",
       " 'author_url': 'http://www.mafengwo.cn/u/64418424.html',\n",
       " 'city_name': '重庆',\n",
       " 'cover_img_url': 'http://p1-q.mafengwo.net/s13/M00/15/6F/wKgEaVyTpsmAUE-ZAB3yPRJM6eg37.jpeg',\n",
       " 'date': '2019-03-14',\n",
       " 'days': '1 天',\n",
       " 'guide_url': 'http://www.mafengwo.cn/i/12159474.html',\n",
       " 'outline': '如果只有 24 小时，你会在重庆如何耍？\\n\\n如果来重庆旅行，建议能坐轻轨、公共交通，就别轻易打车，这个城市的交通实在太神奇啦！\\n\\n重庆诞生了超多网红公共...',\n",
       " 'title': '·重庆 24 小时 丨 去过重庆 3 次的人告诉你这样玩！',\n",
       " 'view': '57743'}"
      ]
     },
     "execution_count": 13,
     "metadata": {},
     "output_type": "execute_result"
    }
   ],
   "source": [
    "cur_item"
   ]
  },
  {
   "cell_type": "code",
   "execution_count": null,
   "metadata": {},
   "outputs": [],
   "source": []
  }
 ],
 "metadata": {
  "kernelspec": {
   "display_name": "Python 3",
   "language": "python",
   "name": "python3"
  },
  "language_info": {
   "codemirror_mode": {
    "name": "ipython",
    "version": 3
   },
   "file_extension": ".py",
   "mimetype": "text/x-python",
   "name": "python",
   "nbconvert_exporter": "python",
   "pygments_lexer": "ipython3",
   "version": "3.6.4"
  }
 },
 "nbformat": 4,
 "nbformat_minor": 2
}
